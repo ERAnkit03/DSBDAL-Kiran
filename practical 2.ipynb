{
 "cells": [
  {
   "cell_type": "code",
   "execution_count": 5,
   "id": "8b062f6c",
   "metadata": {},
   "outputs": [],
   "source": [
    "import pandas as pd\n",
    "import numpy as np\n",
    "import matplotlib.pyplot as plt\n",
    "import seaborn as sns"
   ]
  },
  {
   "cell_type": "code",
   "execution_count": 6,
   "id": "bb25da22",
   "metadata": {},
   "outputs": [
    {
     "data": {
      "text/html": [
       "<div>\n",
       "<style scoped>\n",
       "    .dataframe tbody tr th:only-of-type {\n",
       "        vertical-align: middle;\n",
       "    }\n",
       "\n",
       "    .dataframe tbody tr th {\n",
       "        vertical-align: top;\n",
       "    }\n",
       "\n",
       "    .dataframe thead th {\n",
       "        text-align: right;\n",
       "    }\n",
       "</style>\n",
       "<table border=\"1\" class=\"dataframe\">\n",
       "  <thead>\n",
       "    <tr style=\"text-align: right;\">\n",
       "      <th></th>\n",
       "      <th>COD_S11</th>\n",
       "      <th>GENDER</th>\n",
       "      <th>EDU_FATHER</th>\n",
       "      <th>EDU_MOTHER</th>\n",
       "      <th>OCC_FATHER</th>\n",
       "      <th>OCC_MOTHER</th>\n",
       "      <th>STRATUM</th>\n",
       "      <th>SISBEN</th>\n",
       "      <th>PEOPLE_HOUSE</th>\n",
       "      <th>Unnamed: 9</th>\n",
       "      <th>...</th>\n",
       "      <th>CC_PRO</th>\n",
       "      <th>ENG_PRO</th>\n",
       "      <th>WC_PRO</th>\n",
       "      <th>FEP_PRO</th>\n",
       "      <th>G_SC</th>\n",
       "      <th>PERCENTILE</th>\n",
       "      <th>2ND_DECILE</th>\n",
       "      <th>QUARTILE</th>\n",
       "      <th>SEL</th>\n",
       "      <th>SEL_IHE</th>\n",
       "    </tr>\n",
       "  </thead>\n",
       "  <tbody>\n",
       "    <tr>\n",
       "      <th>0</th>\n",
       "      <td>SB11201210000129</td>\n",
       "      <td>F</td>\n",
       "      <td>Incomplete Professional Education</td>\n",
       "      <td>Complete technique or technology</td>\n",
       "      <td>Technical or professional level employee</td>\n",
       "      <td>Home</td>\n",
       "      <td>Stratum 4</td>\n",
       "      <td>It is not classified by the SISBEN</td>\n",
       "      <td>Three</td>\n",
       "      <td>NaN</td>\n",
       "      <td>...</td>\n",
       "      <td>71</td>\n",
       "      <td>93</td>\n",
       "      <td>79</td>\n",
       "      <td>181</td>\n",
       "      <td>180</td>\n",
       "      <td>91</td>\n",
       "      <td>5</td>\n",
       "      <td>4</td>\n",
       "      <td>2</td>\n",
       "      <td>2</td>\n",
       "    </tr>\n",
       "    <tr>\n",
       "      <th>1</th>\n",
       "      <td>SB11201210000137</td>\n",
       "      <td>F</td>\n",
       "      <td>Complete Secundary</td>\n",
       "      <td>Complete professional education</td>\n",
       "      <td>Entrepreneur</td>\n",
       "      <td>Independent professional</td>\n",
       "      <td>Stratum 5</td>\n",
       "      <td>It is not classified by the SISBEN</td>\n",
       "      <td>Three</td>\n",
       "      <td>NaN</td>\n",
       "      <td>...</td>\n",
       "      <td>86</td>\n",
       "      <td>98</td>\n",
       "      <td>78</td>\n",
       "      <td>201</td>\n",
       "      <td>182</td>\n",
       "      <td>92</td>\n",
       "      <td>5</td>\n",
       "      <td>4</td>\n",
       "      <td>4</td>\n",
       "      <td>4</td>\n",
       "    </tr>\n",
       "    <tr>\n",
       "      <th>2</th>\n",
       "      <td>SB11201210005154</td>\n",
       "      <td>M</td>\n",
       "      <td>Not sure</td>\n",
       "      <td>Not sure</td>\n",
       "      <td>Independent</td>\n",
       "      <td>Home</td>\n",
       "      <td>Stratum 2</td>\n",
       "      <td>Level 2</td>\n",
       "      <td>Five</td>\n",
       "      <td>NaN</td>\n",
       "      <td>...</td>\n",
       "      <td>18</td>\n",
       "      <td>43</td>\n",
       "      <td>22</td>\n",
       "      <td>113</td>\n",
       "      <td>113</td>\n",
       "      <td>7</td>\n",
       "      <td>1</td>\n",
       "      <td>1</td>\n",
       "      <td>1</td>\n",
       "      <td>1</td>\n",
       "    </tr>\n",
       "    <tr>\n",
       "      <th>3</th>\n",
       "      <td>SB11201210007504</td>\n",
       "      <td>F</td>\n",
       "      <td>Not sure</td>\n",
       "      <td>Not sure</td>\n",
       "      <td>Other occupation</td>\n",
       "      <td>Independent</td>\n",
       "      <td>Stratum 2</td>\n",
       "      <td>It is not classified by the SISBEN</td>\n",
       "      <td>Three</td>\n",
       "      <td>NaN</td>\n",
       "      <td>...</td>\n",
       "      <td>76</td>\n",
       "      <td>80</td>\n",
       "      <td>48</td>\n",
       "      <td>137</td>\n",
       "      <td>157</td>\n",
       "      <td>67</td>\n",
       "      <td>4</td>\n",
       "      <td>3</td>\n",
       "      <td>2</td>\n",
       "      <td>2</td>\n",
       "    </tr>\n",
       "    <tr>\n",
       "      <th>4</th>\n",
       "      <td>SB11201210007548</td>\n",
       "      <td>M</td>\n",
       "      <td>Complete professional education</td>\n",
       "      <td>Complete professional education</td>\n",
       "      <td>Executive</td>\n",
       "      <td>Home</td>\n",
       "      <td>Stratum 4</td>\n",
       "      <td>It is not classified by the SISBEN</td>\n",
       "      <td>One</td>\n",
       "      <td>NaN</td>\n",
       "      <td>...</td>\n",
       "      <td>98</td>\n",
       "      <td>100</td>\n",
       "      <td>71</td>\n",
       "      <td>189</td>\n",
       "      <td>198</td>\n",
       "      <td>98</td>\n",
       "      <td>5</td>\n",
       "      <td>4</td>\n",
       "      <td>4</td>\n",
       "      <td>2</td>\n",
       "    </tr>\n",
       "    <tr>\n",
       "      <th>...</th>\n",
       "      <td>...</td>\n",
       "      <td>...</td>\n",
       "      <td>...</td>\n",
       "      <td>...</td>\n",
       "      <td>...</td>\n",
       "      <td>...</td>\n",
       "      <td>...</td>\n",
       "      <td>...</td>\n",
       "      <td>...</td>\n",
       "      <td>...</td>\n",
       "      <td>...</td>\n",
       "      <td>...</td>\n",
       "      <td>...</td>\n",
       "      <td>...</td>\n",
       "      <td>...</td>\n",
       "      <td>...</td>\n",
       "      <td>...</td>\n",
       "      <td>...</td>\n",
       "      <td>...</td>\n",
       "      <td>...</td>\n",
       "      <td>...</td>\n",
       "    </tr>\n",
       "    <tr>\n",
       "      <th>12406</th>\n",
       "      <td>SB11201420568705</td>\n",
       "      <td>M</td>\n",
       "      <td>Ninguno</td>\n",
       "      <td>Complete Secundary</td>\n",
       "      <td>Other occupation</td>\n",
       "      <td>Auxiliary or Administrative</td>\n",
       "      <td>Stratum 2</td>\n",
       "      <td>It is not classified by the SISBEN</td>\n",
       "      <td>Six</td>\n",
       "      <td>NaN</td>\n",
       "      <td>...</td>\n",
       "      <td>86</td>\n",
       "      <td>87</td>\n",
       "      <td>65</td>\n",
       "      <td>142</td>\n",
       "      <td>176</td>\n",
       "      <td>88</td>\n",
       "      <td>5</td>\n",
       "      <td>4</td>\n",
       "      <td>2</td>\n",
       "      <td>2</td>\n",
       "    </tr>\n",
       "    <tr>\n",
       "      <th>12407</th>\n",
       "      <td>SB11201420573045</td>\n",
       "      <td>M</td>\n",
       "      <td>Complete professional education</td>\n",
       "      <td>Complete Secundary</td>\n",
       "      <td>Executive</td>\n",
       "      <td>Other occupation</td>\n",
       "      <td>Stratum 2</td>\n",
       "      <td>Level 2</td>\n",
       "      <td>Five</td>\n",
       "      <td>NaN</td>\n",
       "      <td>...</td>\n",
       "      <td>44</td>\n",
       "      <td>11</td>\n",
       "      <td>0</td>\n",
       "      <td>127</td>\n",
       "      <td>107</td>\n",
       "      <td>4</td>\n",
       "      <td>1</td>\n",
       "      <td>1</td>\n",
       "      <td>4</td>\n",
       "      <td>2</td>\n",
       "    </tr>\n",
       "    <tr>\n",
       "      <th>12408</th>\n",
       "      <td>SB11201420578809</td>\n",
       "      <td>M</td>\n",
       "      <td>Complete technique or technology</td>\n",
       "      <td>Complete technique or technology</td>\n",
       "      <td>Retired</td>\n",
       "      <td>Home</td>\n",
       "      <td>Stratum 2</td>\n",
       "      <td>Level 2</td>\n",
       "      <td>Five</td>\n",
       "      <td>NaN</td>\n",
       "      <td>...</td>\n",
       "      <td>90</td>\n",
       "      <td>81</td>\n",
       "      <td>87</td>\n",
       "      <td>192</td>\n",
       "      <td>188</td>\n",
       "      <td>95</td>\n",
       "      <td>5</td>\n",
       "      <td>4</td>\n",
       "      <td>2</td>\n",
       "      <td>2</td>\n",
       "    </tr>\n",
       "    <tr>\n",
       "      <th>12409</th>\n",
       "      <td>SB11201420578812</td>\n",
       "      <td>F</td>\n",
       "      <td>Complete professional education</td>\n",
       "      <td>Complete professional education</td>\n",
       "      <td>Independent professional</td>\n",
       "      <td>Small entrepreneur</td>\n",
       "      <td>Stratum 3</td>\n",
       "      <td>It is not classified by the SISBEN</td>\n",
       "      <td>Seven</td>\n",
       "      <td>NaN</td>\n",
       "      <td>...</td>\n",
       "      <td>51</td>\n",
       "      <td>8</td>\n",
       "      <td>42</td>\n",
       "      <td>121</td>\n",
       "      <td>146</td>\n",
       "      <td>50</td>\n",
       "      <td>3</td>\n",
       "      <td>3</td>\n",
       "      <td>3</td>\n",
       "      <td>2</td>\n",
       "    </tr>\n",
       "    <tr>\n",
       "      <th>12410</th>\n",
       "      <td>SB11201420583232</td>\n",
       "      <td>M</td>\n",
       "      <td>Complete Secundary</td>\n",
       "      <td>Complete primary</td>\n",
       "      <td>Independent</td>\n",
       "      <td>Home</td>\n",
       "      <td>Stratum 3</td>\n",
       "      <td>Level 1</td>\n",
       "      <td>Four</td>\n",
       "      <td>NaN</td>\n",
       "      <td>...</td>\n",
       "      <td>91</td>\n",
       "      <td>79</td>\n",
       "      <td>47</td>\n",
       "      <td>193</td>\n",
       "      <td>178</td>\n",
       "      <td>89</td>\n",
       "      <td>5</td>\n",
       "      <td>4</td>\n",
       "      <td>2</td>\n",
       "      <td>4</td>\n",
       "    </tr>\n",
       "  </tbody>\n",
       "</table>\n",
       "<p>12411 rows × 45 columns</p>\n",
       "</div>"
      ],
      "text/plain": [
       "                COD_S11 GENDER                         EDU_FATHER  \\\n",
       "0      SB11201210000129      F  Incomplete Professional Education   \n",
       "1      SB11201210000137      F                 Complete Secundary   \n",
       "2      SB11201210005154      M                           Not sure   \n",
       "3      SB11201210007504      F                           Not sure   \n",
       "4      SB11201210007548      M    Complete professional education   \n",
       "...                 ...    ...                                ...   \n",
       "12406  SB11201420568705      M                            Ninguno   \n",
       "12407  SB11201420573045      M    Complete professional education   \n",
       "12408  SB11201420578809      M   Complete technique or technology   \n",
       "12409  SB11201420578812      F    Complete professional education   \n",
       "12410  SB11201420583232      M                 Complete Secundary   \n",
       "\n",
       "                             EDU_MOTHER  \\\n",
       "0      Complete technique or technology   \n",
       "1       Complete professional education   \n",
       "2                              Not sure   \n",
       "3                              Not sure   \n",
       "4       Complete professional education   \n",
       "...                                 ...   \n",
       "12406                Complete Secundary   \n",
       "12407                Complete Secundary   \n",
       "12408  Complete technique or technology   \n",
       "12409   Complete professional education   \n",
       "12410                 Complete primary    \n",
       "\n",
       "                                     OCC_FATHER                   OCC_MOTHER  \\\n",
       "0      Technical or professional level employee                         Home   \n",
       "1                                 Entrepreneur      Independent professional   \n",
       "2                                   Independent                         Home   \n",
       "3                              Other occupation                  Independent   \n",
       "4                                     Executive                         Home   \n",
       "...                                         ...                          ...   \n",
       "12406                          Other occupation  Auxiliary or Administrative   \n",
       "12407                                 Executive             Other occupation   \n",
       "12408                                   Retired                         Home   \n",
       "12409                  Independent professional          Small entrepreneur    \n",
       "12410                               Independent                         Home   \n",
       "\n",
       "         STRATUM                              SISBEN PEOPLE_HOUSE  Unnamed: 9  \\\n",
       "0      Stratum 4  It is not classified by the SISBEN        Three         NaN   \n",
       "1      Stratum 5  It is not classified by the SISBEN        Three         NaN   \n",
       "2      Stratum 2                             Level 2         Five         NaN   \n",
       "3      Stratum 2  It is not classified by the SISBEN        Three         NaN   \n",
       "4      Stratum 4  It is not classified by the SISBEN          One         NaN   \n",
       "...          ...                                 ...          ...         ...   \n",
       "12406  Stratum 2  It is not classified by the SISBEN          Six         NaN   \n",
       "12407  Stratum 2                             Level 2         Five         NaN   \n",
       "12408  Stratum 2                             Level 2         Five         NaN   \n",
       "12409  Stratum 3  It is not classified by the SISBEN        Seven         NaN   \n",
       "12410  Stratum 3                             Level 1         Four         NaN   \n",
       "\n",
       "       ... CC_PRO ENG_PRO WC_PRO FEP_PRO G_SC PERCENTILE 2ND_DECILE QUARTILE  \\\n",
       "0      ...     71      93     79     181  180         91          5        4   \n",
       "1      ...     86      98     78     201  182         92          5        4   \n",
       "2      ...     18      43     22     113  113          7          1        1   \n",
       "3      ...     76      80     48     137  157         67          4        3   \n",
       "4      ...     98     100     71     189  198         98          5        4   \n",
       "...    ...    ...     ...    ...     ...  ...        ...        ...      ...   \n",
       "12406  ...     86      87     65     142  176         88          5        4   \n",
       "12407  ...     44      11      0     127  107          4          1        1   \n",
       "12408  ...     90      81     87     192  188         95          5        4   \n",
       "12409  ...     51       8     42     121  146         50          3        3   \n",
       "12410  ...     91      79     47     193  178         89          5        4   \n",
       "\n",
       "      SEL SEL_IHE  \n",
       "0       2       2  \n",
       "1       4       4  \n",
       "2       1       1  \n",
       "3       2       2  \n",
       "4       4       2  \n",
       "...    ..     ...  \n",
       "12406   2       2  \n",
       "12407   4       2  \n",
       "12408   2       2  \n",
       "12409   3       2  \n",
       "12410   2       4  \n",
       "\n",
       "[12411 rows x 45 columns]"
      ]
     },
     "execution_count": 6,
     "metadata": {},
     "output_type": "execute_result"
    }
   ],
   "source": [
    "# Load the dataset into a DataFrame\n",
    "df = pd.read_excel(\"data_academic_performance.xlsx\")\n",
    "df"
   ]
  },
  {
   "cell_type": "code",
   "execution_count": 8,
   "id": "da6c0224",
   "metadata": {},
   "outputs": [
    {
     "data": {
      "text/html": [
       "<div>\n",
       "<style scoped>\n",
       "    .dataframe tbody tr th:only-of-type {\n",
       "        vertical-align: middle;\n",
       "    }\n",
       "\n",
       "    .dataframe tbody tr th {\n",
       "        vertical-align: top;\n",
       "    }\n",
       "\n",
       "    .dataframe thead th {\n",
       "        text-align: right;\n",
       "    }\n",
       "</style>\n",
       "<table border=\"1\" class=\"dataframe\">\n",
       "  <thead>\n",
       "    <tr style=\"text-align: right;\">\n",
       "      <th></th>\n",
       "      <th>COD_S11</th>\n",
       "      <th>GENDER</th>\n",
       "      <th>EDU_FATHER</th>\n",
       "      <th>EDU_MOTHER</th>\n",
       "      <th>OCC_FATHER</th>\n",
       "      <th>OCC_MOTHER</th>\n",
       "      <th>STRATUM</th>\n",
       "      <th>SISBEN</th>\n",
       "      <th>PEOPLE_HOUSE</th>\n",
       "      <th>Unnamed: 9</th>\n",
       "      <th>...</th>\n",
       "      <th>CC_PRO</th>\n",
       "      <th>ENG_PRO</th>\n",
       "      <th>WC_PRO</th>\n",
       "      <th>FEP_PRO</th>\n",
       "      <th>G_SC</th>\n",
       "      <th>PERCENTILE</th>\n",
       "      <th>2ND_DECILE</th>\n",
       "      <th>QUARTILE</th>\n",
       "      <th>SEL</th>\n",
       "      <th>SEL_IHE</th>\n",
       "    </tr>\n",
       "  </thead>\n",
       "  <tbody>\n",
       "    <tr>\n",
       "      <th>0</th>\n",
       "      <td>SB11201210000129</td>\n",
       "      <td>F</td>\n",
       "      <td>Incomplete Professional Education</td>\n",
       "      <td>Complete technique or technology</td>\n",
       "      <td>Technical or professional level employee</td>\n",
       "      <td>Home</td>\n",
       "      <td>Stratum 4</td>\n",
       "      <td>It is not classified by the SISBEN</td>\n",
       "      <td>Three</td>\n",
       "      <td>NaN</td>\n",
       "      <td>...</td>\n",
       "      <td>71</td>\n",
       "      <td>93</td>\n",
       "      <td>79</td>\n",
       "      <td>181</td>\n",
       "      <td>180</td>\n",
       "      <td>91</td>\n",
       "      <td>5</td>\n",
       "      <td>4</td>\n",
       "      <td>2</td>\n",
       "      <td>2</td>\n",
       "    </tr>\n",
       "    <tr>\n",
       "      <th>1</th>\n",
       "      <td>SB11201210000137</td>\n",
       "      <td>F</td>\n",
       "      <td>Complete Secundary</td>\n",
       "      <td>Complete professional education</td>\n",
       "      <td>Entrepreneur</td>\n",
       "      <td>Independent professional</td>\n",
       "      <td>Stratum 5</td>\n",
       "      <td>It is not classified by the SISBEN</td>\n",
       "      <td>Three</td>\n",
       "      <td>NaN</td>\n",
       "      <td>...</td>\n",
       "      <td>86</td>\n",
       "      <td>98</td>\n",
       "      <td>78</td>\n",
       "      <td>201</td>\n",
       "      <td>182</td>\n",
       "      <td>92</td>\n",
       "      <td>5</td>\n",
       "      <td>4</td>\n",
       "      <td>4</td>\n",
       "      <td>4</td>\n",
       "    </tr>\n",
       "    <tr>\n",
       "      <th>2</th>\n",
       "      <td>SB11201210005154</td>\n",
       "      <td>M</td>\n",
       "      <td>Not sure</td>\n",
       "      <td>Not sure</td>\n",
       "      <td>Independent</td>\n",
       "      <td>Home</td>\n",
       "      <td>Stratum 2</td>\n",
       "      <td>Level 2</td>\n",
       "      <td>Five</td>\n",
       "      <td>NaN</td>\n",
       "      <td>...</td>\n",
       "      <td>18</td>\n",
       "      <td>43</td>\n",
       "      <td>22</td>\n",
       "      <td>113</td>\n",
       "      <td>113</td>\n",
       "      <td>7</td>\n",
       "      <td>1</td>\n",
       "      <td>1</td>\n",
       "      <td>1</td>\n",
       "      <td>1</td>\n",
       "    </tr>\n",
       "    <tr>\n",
       "      <th>3</th>\n",
       "      <td>SB11201210007504</td>\n",
       "      <td>F</td>\n",
       "      <td>Not sure</td>\n",
       "      <td>Not sure</td>\n",
       "      <td>Other occupation</td>\n",
       "      <td>Independent</td>\n",
       "      <td>Stratum 2</td>\n",
       "      <td>It is not classified by the SISBEN</td>\n",
       "      <td>Three</td>\n",
       "      <td>NaN</td>\n",
       "      <td>...</td>\n",
       "      <td>76</td>\n",
       "      <td>80</td>\n",
       "      <td>48</td>\n",
       "      <td>137</td>\n",
       "      <td>157</td>\n",
       "      <td>67</td>\n",
       "      <td>4</td>\n",
       "      <td>3</td>\n",
       "      <td>2</td>\n",
       "      <td>2</td>\n",
       "    </tr>\n",
       "    <tr>\n",
       "      <th>4</th>\n",
       "      <td>SB11201210007548</td>\n",
       "      <td>M</td>\n",
       "      <td>Complete professional education</td>\n",
       "      <td>Complete professional education</td>\n",
       "      <td>Executive</td>\n",
       "      <td>Home</td>\n",
       "      <td>Stratum 4</td>\n",
       "      <td>It is not classified by the SISBEN</td>\n",
       "      <td>One</td>\n",
       "      <td>NaN</td>\n",
       "      <td>...</td>\n",
       "      <td>98</td>\n",
       "      <td>100</td>\n",
       "      <td>71</td>\n",
       "      <td>189</td>\n",
       "      <td>198</td>\n",
       "      <td>98</td>\n",
       "      <td>5</td>\n",
       "      <td>4</td>\n",
       "      <td>4</td>\n",
       "      <td>2</td>\n",
       "    </tr>\n",
       "  </tbody>\n",
       "</table>\n",
       "<p>5 rows × 45 columns</p>\n",
       "</div>"
      ],
      "text/plain": [
       "            COD_S11 GENDER                         EDU_FATHER  \\\n",
       "0  SB11201210000129      F  Incomplete Professional Education   \n",
       "1  SB11201210000137      F                 Complete Secundary   \n",
       "2  SB11201210005154      M                           Not sure   \n",
       "3  SB11201210007504      F                           Not sure   \n",
       "4  SB11201210007548      M    Complete professional education   \n",
       "\n",
       "                         EDU_MOTHER                                OCC_FATHER  \\\n",
       "0  Complete technique or technology  Technical or professional level employee   \n",
       "1   Complete professional education                             Entrepreneur    \n",
       "2                          Not sure                               Independent   \n",
       "3                          Not sure                          Other occupation   \n",
       "4   Complete professional education                                 Executive   \n",
       "\n",
       "                 OCC_MOTHER    STRATUM                              SISBEN  \\\n",
       "0                      Home  Stratum 4  It is not classified by the SISBEN   \n",
       "1  Independent professional  Stratum 5  It is not classified by the SISBEN   \n",
       "2                      Home  Stratum 2                             Level 2   \n",
       "3               Independent  Stratum 2  It is not classified by the SISBEN   \n",
       "4                      Home  Stratum 4  It is not classified by the SISBEN   \n",
       "\n",
       "  PEOPLE_HOUSE  Unnamed: 9  ... CC_PRO ENG_PRO WC_PRO FEP_PRO G_SC PERCENTILE  \\\n",
       "0        Three         NaN  ...     71      93     79     181  180         91   \n",
       "1        Three         NaN  ...     86      98     78     201  182         92   \n",
       "2         Five         NaN  ...     18      43     22     113  113          7   \n",
       "3        Three         NaN  ...     76      80     48     137  157         67   \n",
       "4          One         NaN  ...     98     100     71     189  198         98   \n",
       "\n",
       "  2ND_DECILE QUARTILE SEL SEL_IHE  \n",
       "0          5        4   2       2  \n",
       "1          5        4   4       4  \n",
       "2          1        1   1       1  \n",
       "3          4        3   2       2  \n",
       "4          5        4   4       2  \n",
       "\n",
       "[5 rows x 45 columns]"
      ]
     },
     "execution_count": 8,
     "metadata": {},
     "output_type": "execute_result"
    }
   ],
   "source": [
    "df.head()#Its showing top five result"
   ]
  },
  {
   "cell_type": "code",
   "execution_count": 9,
   "id": "0e21e3d3",
   "metadata": {},
   "outputs": [
    {
     "data": {
      "text/html": [
       "<div>\n",
       "<style scoped>\n",
       "    .dataframe tbody tr th:only-of-type {\n",
       "        vertical-align: middle;\n",
       "    }\n",
       "\n",
       "    .dataframe tbody tr th {\n",
       "        vertical-align: top;\n",
       "    }\n",
       "\n",
       "    .dataframe thead th {\n",
       "        text-align: right;\n",
       "    }\n",
       "</style>\n",
       "<table border=\"1\" class=\"dataframe\">\n",
       "  <thead>\n",
       "    <tr style=\"text-align: right;\">\n",
       "      <th></th>\n",
       "      <th>COD_S11</th>\n",
       "      <th>GENDER</th>\n",
       "      <th>EDU_FATHER</th>\n",
       "      <th>EDU_MOTHER</th>\n",
       "      <th>OCC_FATHER</th>\n",
       "      <th>OCC_MOTHER</th>\n",
       "      <th>STRATUM</th>\n",
       "      <th>SISBEN</th>\n",
       "      <th>PEOPLE_HOUSE</th>\n",
       "      <th>Unnamed: 9</th>\n",
       "      <th>...</th>\n",
       "      <th>CC_PRO</th>\n",
       "      <th>ENG_PRO</th>\n",
       "      <th>WC_PRO</th>\n",
       "      <th>FEP_PRO</th>\n",
       "      <th>G_SC</th>\n",
       "      <th>PERCENTILE</th>\n",
       "      <th>2ND_DECILE</th>\n",
       "      <th>QUARTILE</th>\n",
       "      <th>SEL</th>\n",
       "      <th>SEL_IHE</th>\n",
       "    </tr>\n",
       "  </thead>\n",
       "  <tbody>\n",
       "    <tr>\n",
       "      <th>12406</th>\n",
       "      <td>SB11201420568705</td>\n",
       "      <td>M</td>\n",
       "      <td>Ninguno</td>\n",
       "      <td>Complete Secundary</td>\n",
       "      <td>Other occupation</td>\n",
       "      <td>Auxiliary or Administrative</td>\n",
       "      <td>Stratum 2</td>\n",
       "      <td>It is not classified by the SISBEN</td>\n",
       "      <td>Six</td>\n",
       "      <td>NaN</td>\n",
       "      <td>...</td>\n",
       "      <td>86</td>\n",
       "      <td>87</td>\n",
       "      <td>65</td>\n",
       "      <td>142</td>\n",
       "      <td>176</td>\n",
       "      <td>88</td>\n",
       "      <td>5</td>\n",
       "      <td>4</td>\n",
       "      <td>2</td>\n",
       "      <td>2</td>\n",
       "    </tr>\n",
       "    <tr>\n",
       "      <th>12407</th>\n",
       "      <td>SB11201420573045</td>\n",
       "      <td>M</td>\n",
       "      <td>Complete professional education</td>\n",
       "      <td>Complete Secundary</td>\n",
       "      <td>Executive</td>\n",
       "      <td>Other occupation</td>\n",
       "      <td>Stratum 2</td>\n",
       "      <td>Level 2</td>\n",
       "      <td>Five</td>\n",
       "      <td>NaN</td>\n",
       "      <td>...</td>\n",
       "      <td>44</td>\n",
       "      <td>11</td>\n",
       "      <td>0</td>\n",
       "      <td>127</td>\n",
       "      <td>107</td>\n",
       "      <td>4</td>\n",
       "      <td>1</td>\n",
       "      <td>1</td>\n",
       "      <td>4</td>\n",
       "      <td>2</td>\n",
       "    </tr>\n",
       "    <tr>\n",
       "      <th>12408</th>\n",
       "      <td>SB11201420578809</td>\n",
       "      <td>M</td>\n",
       "      <td>Complete technique or technology</td>\n",
       "      <td>Complete technique or technology</td>\n",
       "      <td>Retired</td>\n",
       "      <td>Home</td>\n",
       "      <td>Stratum 2</td>\n",
       "      <td>Level 2</td>\n",
       "      <td>Five</td>\n",
       "      <td>NaN</td>\n",
       "      <td>...</td>\n",
       "      <td>90</td>\n",
       "      <td>81</td>\n",
       "      <td>87</td>\n",
       "      <td>192</td>\n",
       "      <td>188</td>\n",
       "      <td>95</td>\n",
       "      <td>5</td>\n",
       "      <td>4</td>\n",
       "      <td>2</td>\n",
       "      <td>2</td>\n",
       "    </tr>\n",
       "    <tr>\n",
       "      <th>12409</th>\n",
       "      <td>SB11201420578812</td>\n",
       "      <td>F</td>\n",
       "      <td>Complete professional education</td>\n",
       "      <td>Complete professional education</td>\n",
       "      <td>Independent professional</td>\n",
       "      <td>Small entrepreneur</td>\n",
       "      <td>Stratum 3</td>\n",
       "      <td>It is not classified by the SISBEN</td>\n",
       "      <td>Seven</td>\n",
       "      <td>NaN</td>\n",
       "      <td>...</td>\n",
       "      <td>51</td>\n",
       "      <td>8</td>\n",
       "      <td>42</td>\n",
       "      <td>121</td>\n",
       "      <td>146</td>\n",
       "      <td>50</td>\n",
       "      <td>3</td>\n",
       "      <td>3</td>\n",
       "      <td>3</td>\n",
       "      <td>2</td>\n",
       "    </tr>\n",
       "    <tr>\n",
       "      <th>12410</th>\n",
       "      <td>SB11201420583232</td>\n",
       "      <td>M</td>\n",
       "      <td>Complete Secundary</td>\n",
       "      <td>Complete primary</td>\n",
       "      <td>Independent</td>\n",
       "      <td>Home</td>\n",
       "      <td>Stratum 3</td>\n",
       "      <td>Level 1</td>\n",
       "      <td>Four</td>\n",
       "      <td>NaN</td>\n",
       "      <td>...</td>\n",
       "      <td>91</td>\n",
       "      <td>79</td>\n",
       "      <td>47</td>\n",
       "      <td>193</td>\n",
       "      <td>178</td>\n",
       "      <td>89</td>\n",
       "      <td>5</td>\n",
       "      <td>4</td>\n",
       "      <td>2</td>\n",
       "      <td>4</td>\n",
       "    </tr>\n",
       "  </tbody>\n",
       "</table>\n",
       "<p>5 rows × 45 columns</p>\n",
       "</div>"
      ],
      "text/plain": [
       "                COD_S11 GENDER                        EDU_FATHER  \\\n",
       "12406  SB11201420568705      M                           Ninguno   \n",
       "12407  SB11201420573045      M   Complete professional education   \n",
       "12408  SB11201420578809      M  Complete technique or technology   \n",
       "12409  SB11201420578812      F   Complete professional education   \n",
       "12410  SB11201420583232      M                Complete Secundary   \n",
       "\n",
       "                             EDU_MOTHER                OCC_FATHER  \\\n",
       "12406                Complete Secundary          Other occupation   \n",
       "12407                Complete Secundary                 Executive   \n",
       "12408  Complete technique or technology                   Retired   \n",
       "12409   Complete professional education  Independent professional   \n",
       "12410                 Complete primary                Independent   \n",
       "\n",
       "                        OCC_MOTHER    STRATUM  \\\n",
       "12406  Auxiliary or Administrative  Stratum 2   \n",
       "12407             Other occupation  Stratum 2   \n",
       "12408                         Home  Stratum 2   \n",
       "12409          Small entrepreneur   Stratum 3   \n",
       "12410                         Home  Stratum 3   \n",
       "\n",
       "                                   SISBEN PEOPLE_HOUSE  Unnamed: 9  ...  \\\n",
       "12406  It is not classified by the SISBEN          Six         NaN  ...   \n",
       "12407                             Level 2         Five         NaN  ...   \n",
       "12408                             Level 2         Five         NaN  ...   \n",
       "12409  It is not classified by the SISBEN        Seven         NaN  ...   \n",
       "12410                             Level 1         Four         NaN  ...   \n",
       "\n",
       "      CC_PRO ENG_PRO WC_PRO FEP_PRO G_SC PERCENTILE 2ND_DECILE QUARTILE SEL  \\\n",
       "12406     86      87     65     142  176         88          5        4   2   \n",
       "12407     44      11      0     127  107          4          1        1   4   \n",
       "12408     90      81     87     192  188         95          5        4   2   \n",
       "12409     51       8     42     121  146         50          3        3   3   \n",
       "12410     91      79     47     193  178         89          5        4   2   \n",
       "\n",
       "      SEL_IHE  \n",
       "12406       2  \n",
       "12407       2  \n",
       "12408       2  \n",
       "12409       2  \n",
       "12410       4  \n",
       "\n",
       "[5 rows x 45 columns]"
      ]
     },
     "execution_count": 9,
     "metadata": {},
     "output_type": "execute_result"
    }
   ],
   "source": [
    "df.tail() #its showing bottom 5 results"
   ]
  },
  {
   "cell_type": "code",
   "execution_count": 11,
   "id": "a418dad9",
   "metadata": {},
   "outputs": [
    {
     "data": {
      "text/plain": [
       "COD_S11                 0\n",
       "GENDER                  0\n",
       "EDU_FATHER              0\n",
       "EDU_MOTHER              0\n",
       "OCC_FATHER              0\n",
       "OCC_MOTHER              0\n",
       "STRATUM                 0\n",
       "SISBEN                  0\n",
       "PEOPLE_HOUSE            0\n",
       "Unnamed: 9          12411\n",
       "INTERNET                0\n",
       "TV                      0\n",
       "COMPUTER                0\n",
       "WASHING_MCH             0\n",
       "MIC_OVEN                0\n",
       "CAR                     0\n",
       "DVD                     0\n",
       "FRESH                   0\n",
       "PHONE                   0\n",
       "MOBILE                  0\n",
       "REVENUE                 0\n",
       "JOB                     0\n",
       "SCHOOL_NAME             0\n",
       "SCHOOL_NAT              0\n",
       "SCHOOL_TYPE             0\n",
       "MAT_S11                 0\n",
       "CR_S11                  0\n",
       "CC_S11                  0\n",
       "BIO_S11                 0\n",
       "ENG_S11                 0\n",
       "Cod_SPro                0\n",
       "UNIVERSITY              0\n",
       "ACADEMIC_PROGRAM        0\n",
       "QR_PRO                  0\n",
       "CR_PRO                  0\n",
       "CC_PRO                  0\n",
       "ENG_PRO                 0\n",
       "WC_PRO                  0\n",
       "FEP_PRO                 0\n",
       "G_SC                    0\n",
       "PERCENTILE              0\n",
       "2ND_DECILE              0\n",
       "QUARTILE                0\n",
       "SEL                     0\n",
       "SEL_IHE                 0\n",
       "dtype: int64"
      ]
     },
     "execution_count": 11,
     "metadata": {},
     "output_type": "execute_result"
    }
   ],
   "source": [
    "df.isnull().sum() #calculating the null values"
   ]
  },
  {
   "cell_type": "code",
   "execution_count": 12,
   "id": "4810ce81",
   "metadata": {},
   "outputs": [],
   "source": [
    "df.drop('Unnamed: 9',axis=1,inplace=True) #dropping cabin column"
   ]
  },
  {
   "cell_type": "code",
   "execution_count": 13,
   "id": "153da9d4",
   "metadata": {},
   "outputs": [],
   "source": [
    "df.dropna(inplace=True)"
   ]
  },
  {
   "cell_type": "code",
   "execution_count": 14,
   "id": "5267c51e",
   "metadata": {},
   "outputs": [
    {
     "data": {
      "text/html": [
       "<div>\n",
       "<style scoped>\n",
       "    .dataframe tbody tr th:only-of-type {\n",
       "        vertical-align: middle;\n",
       "    }\n",
       "\n",
       "    .dataframe tbody tr th {\n",
       "        vertical-align: top;\n",
       "    }\n",
       "\n",
       "    .dataframe thead th {\n",
       "        text-align: right;\n",
       "    }\n",
       "</style>\n",
       "<table border=\"1\" class=\"dataframe\">\n",
       "  <thead>\n",
       "    <tr style=\"text-align: right;\">\n",
       "      <th></th>\n",
       "      <th>COD_S11</th>\n",
       "      <th>GENDER</th>\n",
       "      <th>EDU_FATHER</th>\n",
       "      <th>EDU_MOTHER</th>\n",
       "      <th>OCC_FATHER</th>\n",
       "      <th>OCC_MOTHER</th>\n",
       "      <th>STRATUM</th>\n",
       "      <th>SISBEN</th>\n",
       "      <th>PEOPLE_HOUSE</th>\n",
       "      <th>INTERNET</th>\n",
       "      <th>...</th>\n",
       "      <th>CC_PRO</th>\n",
       "      <th>ENG_PRO</th>\n",
       "      <th>WC_PRO</th>\n",
       "      <th>FEP_PRO</th>\n",
       "      <th>G_SC</th>\n",
       "      <th>PERCENTILE</th>\n",
       "      <th>2ND_DECILE</th>\n",
       "      <th>QUARTILE</th>\n",
       "      <th>SEL</th>\n",
       "      <th>SEL_IHE</th>\n",
       "    </tr>\n",
       "  </thead>\n",
       "  <tbody>\n",
       "    <tr>\n",
       "      <th>0</th>\n",
       "      <td>SB11201210000129</td>\n",
       "      <td>F</td>\n",
       "      <td>Incomplete Professional Education</td>\n",
       "      <td>Complete technique or technology</td>\n",
       "      <td>Technical or professional level employee</td>\n",
       "      <td>Home</td>\n",
       "      <td>Stratum 4</td>\n",
       "      <td>It is not classified by the SISBEN</td>\n",
       "      <td>Three</td>\n",
       "      <td>Yes</td>\n",
       "      <td>...</td>\n",
       "      <td>71</td>\n",
       "      <td>93</td>\n",
       "      <td>79</td>\n",
       "      <td>181</td>\n",
       "      <td>180</td>\n",
       "      <td>91</td>\n",
       "      <td>5</td>\n",
       "      <td>4</td>\n",
       "      <td>2</td>\n",
       "      <td>2</td>\n",
       "    </tr>\n",
       "    <tr>\n",
       "      <th>1</th>\n",
       "      <td>SB11201210000137</td>\n",
       "      <td>F</td>\n",
       "      <td>Complete Secundary</td>\n",
       "      <td>Complete professional education</td>\n",
       "      <td>Entrepreneur</td>\n",
       "      <td>Independent professional</td>\n",
       "      <td>Stratum 5</td>\n",
       "      <td>It is not classified by the SISBEN</td>\n",
       "      <td>Three</td>\n",
       "      <td>Yes</td>\n",
       "      <td>...</td>\n",
       "      <td>86</td>\n",
       "      <td>98</td>\n",
       "      <td>78</td>\n",
       "      <td>201</td>\n",
       "      <td>182</td>\n",
       "      <td>92</td>\n",
       "      <td>5</td>\n",
       "      <td>4</td>\n",
       "      <td>4</td>\n",
       "      <td>4</td>\n",
       "    </tr>\n",
       "    <tr>\n",
       "      <th>2</th>\n",
       "      <td>SB11201210005154</td>\n",
       "      <td>M</td>\n",
       "      <td>Not sure</td>\n",
       "      <td>Not sure</td>\n",
       "      <td>Independent</td>\n",
       "      <td>Home</td>\n",
       "      <td>Stratum 2</td>\n",
       "      <td>Level 2</td>\n",
       "      <td>Five</td>\n",
       "      <td>No</td>\n",
       "      <td>...</td>\n",
       "      <td>18</td>\n",
       "      <td>43</td>\n",
       "      <td>22</td>\n",
       "      <td>113</td>\n",
       "      <td>113</td>\n",
       "      <td>7</td>\n",
       "      <td>1</td>\n",
       "      <td>1</td>\n",
       "      <td>1</td>\n",
       "      <td>1</td>\n",
       "    </tr>\n",
       "    <tr>\n",
       "      <th>3</th>\n",
       "      <td>SB11201210007504</td>\n",
       "      <td>F</td>\n",
       "      <td>Not sure</td>\n",
       "      <td>Not sure</td>\n",
       "      <td>Other occupation</td>\n",
       "      <td>Independent</td>\n",
       "      <td>Stratum 2</td>\n",
       "      <td>It is not classified by the SISBEN</td>\n",
       "      <td>Three</td>\n",
       "      <td>Yes</td>\n",
       "      <td>...</td>\n",
       "      <td>76</td>\n",
       "      <td>80</td>\n",
       "      <td>48</td>\n",
       "      <td>137</td>\n",
       "      <td>157</td>\n",
       "      <td>67</td>\n",
       "      <td>4</td>\n",
       "      <td>3</td>\n",
       "      <td>2</td>\n",
       "      <td>2</td>\n",
       "    </tr>\n",
       "    <tr>\n",
       "      <th>4</th>\n",
       "      <td>SB11201210007548</td>\n",
       "      <td>M</td>\n",
       "      <td>Complete professional education</td>\n",
       "      <td>Complete professional education</td>\n",
       "      <td>Executive</td>\n",
       "      <td>Home</td>\n",
       "      <td>Stratum 4</td>\n",
       "      <td>It is not classified by the SISBEN</td>\n",
       "      <td>One</td>\n",
       "      <td>Yes</td>\n",
       "      <td>...</td>\n",
       "      <td>98</td>\n",
       "      <td>100</td>\n",
       "      <td>71</td>\n",
       "      <td>189</td>\n",
       "      <td>198</td>\n",
       "      <td>98</td>\n",
       "      <td>5</td>\n",
       "      <td>4</td>\n",
       "      <td>4</td>\n",
       "      <td>2</td>\n",
       "    </tr>\n",
       "  </tbody>\n",
       "</table>\n",
       "<p>5 rows × 44 columns</p>\n",
       "</div>"
      ],
      "text/plain": [
       "            COD_S11 GENDER                         EDU_FATHER  \\\n",
       "0  SB11201210000129      F  Incomplete Professional Education   \n",
       "1  SB11201210000137      F                 Complete Secundary   \n",
       "2  SB11201210005154      M                           Not sure   \n",
       "3  SB11201210007504      F                           Not sure   \n",
       "4  SB11201210007548      M    Complete professional education   \n",
       "\n",
       "                         EDU_MOTHER                                OCC_FATHER  \\\n",
       "0  Complete technique or technology  Technical or professional level employee   \n",
       "1   Complete professional education                             Entrepreneur    \n",
       "2                          Not sure                               Independent   \n",
       "3                          Not sure                          Other occupation   \n",
       "4   Complete professional education                                 Executive   \n",
       "\n",
       "                 OCC_MOTHER    STRATUM                              SISBEN  \\\n",
       "0                      Home  Stratum 4  It is not classified by the SISBEN   \n",
       "1  Independent professional  Stratum 5  It is not classified by the SISBEN   \n",
       "2                      Home  Stratum 2                             Level 2   \n",
       "3               Independent  Stratum 2  It is not classified by the SISBEN   \n",
       "4                      Home  Stratum 4  It is not classified by the SISBEN   \n",
       "\n",
       "  PEOPLE_HOUSE INTERNET  ... CC_PRO ENG_PRO WC_PRO FEP_PRO G_SC PERCENTILE  \\\n",
       "0        Three      Yes  ...     71      93     79     181  180         91   \n",
       "1        Three      Yes  ...     86      98     78     201  182         92   \n",
       "2         Five       No  ...     18      43     22     113  113          7   \n",
       "3        Three      Yes  ...     76      80     48     137  157         67   \n",
       "4          One      Yes  ...     98     100     71     189  198         98   \n",
       "\n",
       "  2ND_DECILE QUARTILE SEL SEL_IHE  \n",
       "0          5        4   2       2  \n",
       "1          5        4   4       4  \n",
       "2          1        1   1       1  \n",
       "3          4        3   2       2  \n",
       "4          5        4   4       2  \n",
       "\n",
       "[5 rows x 44 columns]"
      ]
     },
     "execution_count": 14,
     "metadata": {},
     "output_type": "execute_result"
    }
   ],
   "source": [
    "df.head()"
   ]
  },
  {
   "cell_type": "code",
   "execution_count": 19,
   "id": "c328b79c",
   "metadata": {},
   "outputs": [
    {
     "data": {
      "text/plain": [
       "(12411, 44)"
      ]
     },
     "execution_count": 19,
     "metadata": {},
     "output_type": "execute_result"
    }
   ],
   "source": [
    "df.shape #Finding Dimensions of the data frame."
   ]
  },
  {
   "cell_type": "code",
   "execution_count": 116,
   "id": "d5ac6667",
   "metadata": {},
   "outputs": [
    {
     "ename": "SyntaxError",
     "evalue": "invalid syntax (1279299660.py, line 2)",
     "output_type": "error",
     "traceback": [
      "\u001b[1;36m  Cell \u001b[1;32mIn[116], line 2\u001b[1;36m\u001b[0m\n\u001b[1;33m    2. Scan all numeric variables for outliers. If there are outliers, use any of the\u001b[0m\n\u001b[1;37m       ^\u001b[0m\n\u001b[1;31mSyntaxError\u001b[0m\u001b[1;31m:\u001b[0m invalid syntax\n"
     ]
    }
   ],
   "source": [
    "#Finding Outliers\n",
    "2. Scan all numeric variables for outliers. If there are outliers, use any of the \n",
    "suitable techniques to deal with them.  "
   ]
  },
  {
   "cell_type": "code",
   "execution_count": 26,
   "id": "5c4cdcaf",
   "metadata": {},
   "outputs": [],
   "source": [
    "def ploting(df,st):\n",
    "    plt.figure(figsize=(16,4))\n",
    "    plt.subplot(1,2,2)\n",
    "    sns.boxplot(df[st])\n",
    "    plt.show()"
   ]
  },
  {
   "cell_type": "code",
   "execution_count": 27,
   "id": "690d66d4",
   "metadata": {},
   "outputs": [
    {
     "data": {
      "image/png": "[encoded data removed]",
      "text/plain": [
       "<Figure size 1600x400 with 1 Axes>"
      ]
     },
     "metadata": {},
     "output_type": "display_data"
    }
   ],
   "source": [
    "ploting(df,'MAT_S11')"
   ]
  },
  {
   "cell_type": "code",
   "execution_count": 28,
   "id": "05b39a0b",
   "metadata": {},
   "outputs": [
    {
     "data": {
      "image/png": "[encoded data removed]",
      "text/plain": [
       "<Figure size 1600x400 with 1 Axes>"
      ]
     },
     "metadata": {},
     "output_type": "display_data"
    }
   ],
   "source": [
    "ploting(df,'CR_S11')"
   ]
  },
  {
   "cell_type": "code",
   "execution_count": 29,
   "id": "6ee096a5",
   "metadata": {},
   "outputs": [
    {
     "data": {
      "image/png": "[encoded data removed]",
      "text/plain": [
       "<Figure size 1600x400 with 1 Axes>"
      ]
     },
     "metadata": {},
     "output_type": "display_data"
    }
   ],
   "source": [
    "ploting(df,'CC_S11')"
   ]
  },
  {
   "cell_type": "code",
   "execution_count": 30,
   "id": "1a0c7c2a",
   "metadata": {},
   "outputs": [
    {
     "data": {
      "image/png": "[encoded data removed]",
      "text/plain": [
       "<Figure size 1600x400 with 1 Axes>"
      ]
     },
     "metadata": {},
     "output_type": "display_data"
    }
   ],
   "source": [
    "ploting(df,'BIO_S11')"
   ]
  },
  {
   "cell_type": "code",
   "execution_count": 31,
   "id": "aafdeaa3",
   "metadata": {},
   "outputs": [
    {
     "data": {
      "image/png": "[encoded data removed]",
      "text/plain": [
       "<Figure size 1600x400 with 1 Axes>"
      ]
     },
     "metadata": {},
     "output_type": "display_data"
    }
   ],
   "source": [
    "ploting(df,'ENG_S11')"
   ]
  },
  {
   "cell_type": "code",
   "execution_count": 44,
   "id": "74149086",
   "metadata": {},
   "outputs": [
    {
     "data": {
      "image/png": "[encoded data removed]",
      "text/plain": [
       "<Figure size 1600x400 with 1 Axes>"
      ]
     },
     "metadata": {},
     "output_type": "display_data"
    }
   ],
   "source": [
    "ploting(df,'QR_PRO')"
   ]
  },
  {
   "cell_type": "code",
   "execution_count": 45,
   "id": "133c3d5a",
   "metadata": {},
   "outputs": [],
   "source": [
    "#DETECTING OUTLIERS"
   ]
  },
  {
   "cell_type": "code",
   "execution_count": 46,
   "id": "c38ec406",
   "metadata": {},
   "outputs": [],
   "source": [
    "import numpy as np\n",
    "\n",
    "def detect_outliers_zscore(df):\n",
    "    outliers = []\n",
    "    thres = 3\n",
    "    mean = np.mean(df)\n",
    "    std = np.std(df)\n",
    "    for i in df:\n",
    "        z_score = (i - mean) / std\n",
    "        if np.abs(z_score) > thres:\n",
    "            outliers.append(i)\n",
    "    return outliers\n",
    "\n",
    "# Example usage:\n",
    "# outliers = detect_outliers_zscore(df['column_name'])"
   ]
  },
  {
   "cell_type": "code",
   "execution_count": 47,
   "id": "d28646b0",
   "metadata": {},
   "outputs": [
    {
     "name": "stdout",
     "output_type": "stream",
     "text": [
      "Outlliers from Z-scores method:  [100, 100, 100, 100, 100, 100, 100, 100, 100, 100, 100, 100, 100, 100, 100, 100, 100, 100, 100, 100, 100, 100, 100, 100, 100, 100, 100, 100, 100, 100, 100, 100, 100, 100, 100, 100, 100, 100, 100, 100, 100, 100, 100, 100, 100, 100, 100, 100, 100, 100, 100, 100, 100, 100, 100, 100, 100, 100, 100, 100, 100, 100, 100, 100, 100, 100, 100, 100, 26, 100, 100, 100, 100, 100, 100, 100, 100, 100, 100, 100, 100, 100, 100, 100, 100, 100, 100, 100, 100]\n"
     ]
    }
   ],
   "source": [
    "mat = detect_outliers_zscore(df['MAT_S11'])\n",
    "print(\"Outlliers from Z-scores method: \", mat)"
   ]
  },
  {
   "cell_type": "markdown",
   "id": "a0306ddf",
   "metadata": {},
   "source": []
  },
  {
   "cell_type": "code",
   "execution_count": 48,
   "id": "1b263ab8",
   "metadata": {},
   "outputs": [
    {
     "name": "stdout",
     "output_type": "stream",
     "text": [
      "Outlliers from Z-scores method:  [100, 28, 100, 100, 98, 98, 100, 26, 100, 98, 100, 98, 100, 100, 29, 100, 100, 100, 100, 100, 100, 29, 24, 100, 30, 29, 27, 100, 95, 100, 95, 100, 100, 95, 95, 100, 95, 95, 96, 95, 27, 95, 95, 95, 96, 100, 28, 28, 100, 28, 95, 96, 92, 92, 92, 92, 91, 98, 92, 92, 100, 92, 92, 92, 92, 92, 92, 91, 100]\n"
     ]
    }
   ],
   "source": [
    "cr = detect_outliers_zscore(df['CR_S11'])\n",
    "print(\"Outlliers from Z-scores method: \", cr)"
   ]
  },
  {
   "cell_type": "code",
   "execution_count": 50,
   "id": "4964451c",
   "metadata": {},
   "outputs": [
    {
     "name": "stdout",
     "output_type": "stream",
     "text": [
      "Outlliers from Z-scores method:  [29, 100, 96, 96, 96, 96, 30, 26, 100, 0, 96, 96, 96, 96, 96, 96, 96, 96, 96, 26, 29, 100, 100, 96, 96, 29, 96, 30, 96, 100, 100, 100, 100, 100, 30, 100, 100, 100, 100, 30, 100, 100, 100, 100, 100, 100, 100, 100, 100, 100, 100, 100, 100, 100, 100, 100, 100, 100, 30, 100, 100, 100, 30, 93, 100, 93, 93, 30, 93]\n"
     ]
    }
   ],
   "source": [
    "cc = detect_outliers_zscore(df['CC_S11'])\n",
    "print(\"Outlliers from Z-scores method: \", cc)"
   ]
  },
  {
   "cell_type": "code",
   "execution_count": 70,
   "id": "0d2e360e",
   "metadata": {},
   "outputs": [
    {
     "name": "stdout",
     "output_type": "stream",
     "text": [
      "Outlliers from Z-scores method:  [100, 100, 100, 100, 100, 100, 20, 100, 100, 100, 100, 100, 100, 100, 100, 100, 100, 100, 11, 100, 100, 100, 100, 100, 100, 30, 100, 100, 100, 100, 100, 100, 100, 100, 100, 100, 100, 100, 100, 30, 100, 100, 100, 100, 20, 100, 100, 100, 100, 100, 30, 100, 100, 100, 30, 100, 100, 100, 100, 27, 100, 100, 100, 100, 100, 100, 100, 100, 98, 100, 99, 100, 99, 100, 100, 98, 100, 100, 100, 29]\n"
     ]
    }
   ],
   "source": [
    "bio = detect_outliers_zscore(df['BIO_S11'])\n",
    "print(\"Outlliers from Z-scores method: \", bio)"
   ]
  },
  {
   "cell_type": "code",
   "execution_count": 71,
   "id": "f015626c",
   "metadata": {},
   "outputs": [
    {
     "name": "stdout",
     "output_type": "stream",
     "text": [
      "Outliers from Z-scores method: []\n"
     ]
    }
   ],
   "source": [
    "eng = detect_outliers_zscore(df['ENG_S11'])\n",
    "print(\"Outliers from Z-scores method:\", eng)"
   ]
  },
  {
   "cell_type": "code",
   "execution_count": 72,
   "id": "776dbd5e",
   "metadata": {},
   "outputs": [],
   "source": [
    "#FINDING IQR"
   ]
  },
  {
   "cell_type": "code",
   "execution_count": 76,
   "id": "38f8f991",
   "metadata": {},
   "outputs": [],
   "source": [
    "def finding_iqr(df_st):\n",
    "    q1 = df_st.quantile(0.25)\n",
    "    q3 = df_st.quantile(0.75)\n",
    "    iqr = q3 - q1\n",
    "    lower_boundary = q1 - 1.5 * iqr\n",
    "    upper_boundary = q3 + 1.5 * iqr\n",
    "    \n",
    "    return lower_boundary, upper_boundary"
   ]
  },
  {
   "cell_type": "code",
   "execution_count": 77,
   "id": "29fc956b",
   "metadata": {},
   "outputs": [
    {
     "name": "stdout",
     "output_type": "stream",
     "text": [
      "Upper limit is: 96.0\n",
      "Lower limit is: 32.0\n"
     ]
    }
   ],
   "source": [
    "lower_MAT_S11, upper_MAT_S11 = finding_iqr(df['MAT_S11'])\n",
    "print(\"Upper limit is:\", upper_MAT_S11)\n",
    "print(\"Lower limit is:\", lower_MAT_S11)"
   ]
  },
  {
   "cell_type": "code",
   "execution_count": 79,
   "id": "af210b4c",
   "metadata": {},
   "outputs": [
    {
     "name": "stdout",
     "output_type": "stream",
     "text": [
      "Upper limit is: 86.5\n",
      "Lower limit is: 34.5\n"
     ]
    }
   ],
   "source": [
    "lower_CR_S11, upper_CR_S11 = finding_iqr(df['CR_S11'])\n",
    "print(\"Upper limit is:\", upper_CR_S11)\n",
    "print(\"Lower limit is:\", lower_CR_S11)"
   ]
  },
  {
   "cell_type": "code",
   "execution_count": 80,
   "id": "bac89d7c",
   "metadata": {},
   "outputs": [
    {
     "name": "stdout",
     "output_type": "stream",
     "text": [
      "Upper limit is: 86.5\n",
      "Lower limit is: 34.5\n"
     ]
    }
   ],
   "source": [
    "lower_CC_S11, upper_CC_S11 = finding_iqr(df['CC_S11'])\n",
    "print(\"Upper limit is:\", upper_CC_S11)\n",
    "print(\"Lower limit is:\", lower_CC_S11)"
   ]
  },
  {
   "cell_type": "code",
   "execution_count": 81,
   "id": "c76af48d",
   "metadata": {},
   "outputs": [
    {
     "name": "stdout",
     "output_type": "stream",
     "text": [
      "Upper limit is: 93.5\n",
      "Lower limit is: 33.5\n"
     ]
    }
   ],
   "source": [
    "lower_BIO_S11, upper_BIO_S11 = finding_iqr(df['BIO_S11'])\n",
    "print(\"Upper limit is:\", upper_BIO_S11)\n",
    "print(\"Lower limit is:\", lower_BIO_S11)"
   ]
  },
  {
   "cell_type": "code",
   "execution_count": 82,
   "id": "3faa40e5",
   "metadata": {},
   "outputs": [
    {
     "name": "stdout",
     "output_type": "stream",
     "text": [
      "Upper limit is: 105.0\n",
      "Lower limit is: 17.0\n"
     ]
    }
   ],
   "source": [
    "lower_ENG_S11, upper_ENG_S11 = finding_iqr(df['ENG_S11'])\n",
    "print(\"Upper limit is:\", upper_ENG_S11)\n",
    "print(\"Lower limit is:\", lower_ENG_S11)"
   ]
  },
  {
   "cell_type": "code",
   "execution_count": 83,
   "id": "ea5ce6ce",
   "metadata": {},
   "outputs": [],
   "source": [
    "#REMOVING OUTLIERS"
   ]
  },
  {
   "cell_type": "code",
   "execution_count": 85,
   "id": "454f9527",
   "metadata": {},
   "outputs": [
    {
     "data": {
      "text/plain": [
       "array([False, False, False, ..., False, False, False])"
      ]
     },
     "execution_count": 85,
     "metadata": {},
     "output_type": "execute_result"
    }
   ],
   "source": [
    "#REMOVING OUTLIERS\n",
    "outliers_MAT_S11 = np.where(df['MAT_S11'] > upper_MAT_S11, True, False)\n",
    "outliers_MAT_S11"
   ]
  },
  {
   "cell_type": "code",
   "execution_count": 87,
   "id": "a198991b",
   "metadata": {},
   "outputs": [
    {
     "data": {
      "text/plain": [
       "array([False, False, False, ..., False, False, False])"
      ]
     },
     "execution_count": 87,
     "metadata": {},
     "output_type": "execute_result"
    }
   ],
   "source": [
    "#REMOVING OUTLIERS\n",
    "outliers_CR_S11 = np.where(df['CR_S11'] > upper_CR_S11, True, False)\n",
    "outliers_CR_S11\n"
   ]
  },
  {
   "cell_type": "code",
   "execution_count": 88,
   "id": "67b8f843",
   "metadata": {},
   "outputs": [
    {
     "data": {
      "text/plain": [
       "array([False, False, False, ..., False, False, False])"
      ]
     },
     "execution_count": 88,
     "metadata": {},
     "output_type": "execute_result"
    }
   ],
   "source": [
    "#REMOVING OUTLIERS\n",
    "outliers_CC_S11 = np.where(df['CC_S11'] > upper_CC_S11, True, False)\n",
    "outliers_CC_S11"
   ]
  },
  {
   "cell_type": "code",
   "execution_count": 89,
   "id": "28f25b23",
   "metadata": {},
   "outputs": [
    {
     "data": {
      "text/plain": [
       "array([False,  True, False, ..., False, False, False])"
      ]
     },
     "execution_count": 89,
     "metadata": {},
     "output_type": "execute_result"
    }
   ],
   "source": [
    "#REMOVING OUTLIERS\n",
    "outliers_BIO_S11 = np.where(df['BIO_S11'] > upper_BIO_S11, True, False)\n",
    "outliers_BIO_S11"
   ]
  },
  {
   "cell_type": "code",
   "execution_count": 93,
   "id": "b901bf07",
   "metadata": {},
   "outputs": [
    {
     "data": {
      "text/plain": [
       "array([False, False, False, ..., False, False, False])"
      ]
     },
     "execution_count": 93,
     "metadata": {},
     "output_type": "execute_result"
    }
   ],
   "source": [
    "#REMOVING OUTLIERS\n",
    "# Step 1: Calculate the upper limit using finding_iqr() function\n",
    "lower_QR_PRO, upper_QR_PRO = finding_iqr(df['QR_PRO'])\n",
    "\n",
    "# Step 2: Identify outliers in the 'QR_PRO' column using the upper limit\n",
    "outliers_QR_PRO = np.where(df['QR_PRO'] > upper_QR_PRO, True, False)\n",
    "outliers_QR_PRO\n"
   ]
  },
  {
   "cell_type": "code",
   "execution_count": 94,
   "id": "844e249e",
   "metadata": {},
   "outputs": [
    {
     "data": {
      "text/plain": [
       "array([False, False, False, ..., False, False, False])"
      ]
     },
     "execution_count": 94,
     "metadata": {},
     "output_type": "execute_result"
    }
   ],
   "source": [
    "# Step 1: Calculate the upper limit using finding_iqr() function\n",
    "lower_FEP_PRO, upper_FEP_PRO = finding_iqr(df['FEP_PRO'])\n",
    "\n",
    "# Step 2: Identify outliers in the 'QR_PRO' column using the upper limit\n",
    "outliers_FEP_PRO = np.where(df['FEP_PRO'] > upper_FEP_PRO, True, False)\n",
    "outliers_FEP_PRO\n"
   ]
  },
  {
   "cell_type": "code",
   "execution_count": 95,
   "id": "e1708114",
   "metadata": {},
   "outputs": [],
   "source": [
    "#AFTER REMOVING OUTLIERS"
   ]
  },
  {
   "cell_type": "code",
   "execution_count": 96,
   "id": "f776f10c",
   "metadata": {},
   "outputs": [],
   "source": [
    "def boxplot(df,st):\n",
    "    plt.figure(figsize=(16,4))\n",
    "    plt.subplot(1,2,2)\n",
    "    sns.boxplot(df[st])\n",
    "    plt.show()"
   ]
  },
  {
   "cell_type": "code",
   "execution_count": 97,
   "id": "2a4b569e",
   "metadata": {},
   "outputs": [
    {
     "data": {
      "image/png": "[encoded data removed]",
      "text/plain": [
       "<Figure size 1600x400 with 1 Axes>"
      ]
     },
     "metadata": {},
     "output_type": "display_data"
    }
   ],
   "source": [
    "boxplot(df, 'MAT_S11')"
   ]
  },
  {
   "cell_type": "code",
   "execution_count": 98,
   "id": "e0813dfe",
   "metadata": {},
   "outputs": [
    {
     "data": {
      "image/png": "[encoded data removed]",
      "text/plain": [
       "<Figure size 1600x400 with 1 Axes>"
      ]
     },
     "metadata": {},
     "output_type": "display_data"
    }
   ],
   "source": [
    "boxplot(df, 'CR_S11')"
   ]
  },
  {
   "cell_type": "code",
   "execution_count": 99,
   "id": "7529dd2b",
   "metadata": {},
   "outputs": [
    {
     "data": {
      "image/png": "[encoded data removed]",
      "text/plain": [
       "<Figure size 1600x400 with 1 Axes>"
      ]
     },
     "metadata": {},
     "output_type": "display_data"
    }
   ],
   "source": [
    "boxplot(df, 'CC_S11')"
   ]
  },
  {
   "cell_type": "code",
   "execution_count": 100,
   "id": "67d7ebd5",
   "metadata": {},
   "outputs": [
    {
     "data": {
      "image/png": "[encoded data removed]",
      "text/plain": [
       "<Figure size 1600x400 with 1 Axes>"
      ]
     },
     "metadata": {},
     "output_type": "display_data"
    }
   ],
   "source": [
    "boxplot(df, 'BIO_S11')"
   ]
  },
  {
   "cell_type": "code",
   "execution_count": 101,
   "id": "dcda7a55",
   "metadata": {},
   "outputs": [
    {
     "data": {
      "image/png": "[encoded data removed]",
      "text/plain": [
       "<Figure size 1600x400 with 1 Axes>"
      ]
     },
     "metadata": {},
     "output_type": "display_data"
    }
   ],
   "source": [
    "boxplot(df, 'QR_PRO')"
   ]
  },
  {
   "cell_type": "code",
   "execution_count": 107,
   "id": "4120a878",
   "metadata": {},
   "outputs": [
    {
     "ename": "SyntaxError",
     "evalue": "invalid syntax (2174055848.py, line 2)",
     "output_type": "error",
     "traceback": [
      "\u001b[1;36m  Cell \u001b[1;32mIn[107], line 2\u001b[1;36m\u001b[0m\n\u001b[1;33m    transformation should be one of the following reasons: to change the scale for\u001b[0m\n\u001b[1;37m                   ^\u001b[0m\n\u001b[1;31mSyntaxError\u001b[0m\u001b[1;31m:\u001b[0m invalid syntax\n"
     ]
    }
   ],
   "source": [
    "#3. Apply data transformations on at least one of the variables. The purpose of this \n",
    "transformation should be one of the following reasons: to change the scale for \n",
    "better understanding of the variable, to convert a non-linear relation into a linear \n",
    "one, or to decrease the skewness and convert the distribution into a normal \n",
    "distribution. Reason and document your approach properly.#"
   ]
  },
  {
   "cell_type": "code",
   "execution_count": 108,
   "id": "69555c3d",
   "metadata": {},
   "outputs": [
    {
     "data": {
      "text/html": [
       "<div>\n",
       "<style scoped>\n",
       "    .dataframe tbody tr th:only-of-type {\n",
       "        vertical-align: middle;\n",
       "    }\n",
       "\n",
       "    .dataframe tbody tr th {\n",
       "        vertical-align: top;\n",
       "    }\n",
       "\n",
       "    .dataframe thead th {\n",
       "        text-align: right;\n",
       "    }\n",
       "</style>\n",
       "<table border=\"1\" class=\"dataframe\">\n",
       "  <thead>\n",
       "    <tr style=\"text-align: right;\">\n",
       "      <th></th>\n",
       "      <th>COD_S11</th>\n",
       "      <th>GENDER</th>\n",
       "      <th>EDU_FATHER</th>\n",
       "      <th>EDU_MOTHER</th>\n",
       "      <th>OCC_FATHER</th>\n",
       "      <th>OCC_MOTHER</th>\n",
       "      <th>STRATUM</th>\n",
       "      <th>SISBEN</th>\n",
       "      <th>PEOPLE_HOUSE</th>\n",
       "      <th>INTERNET</th>\n",
       "      <th>...</th>\n",
       "      <th>CC_PRO</th>\n",
       "      <th>ENG_PRO</th>\n",
       "      <th>WC_PRO</th>\n",
       "      <th>FEP_PRO</th>\n",
       "      <th>G_SC</th>\n",
       "      <th>PERCENTILE</th>\n",
       "      <th>2ND_DECILE</th>\n",
       "      <th>QUARTILE</th>\n",
       "      <th>SEL</th>\n",
       "      <th>SEL_IHE</th>\n",
       "    </tr>\n",
       "  </thead>\n",
       "  <tbody>\n",
       "    <tr>\n",
       "      <th>0</th>\n",
       "      <td>SB11201210000129</td>\n",
       "      <td>F</td>\n",
       "      <td>Incomplete Professional Education</td>\n",
       "      <td>Complete technique or technology</td>\n",
       "      <td>Technical or professional level employee</td>\n",
       "      <td>Home</td>\n",
       "      <td>Stratum 4</td>\n",
       "      <td>It is not classified by the SISBEN</td>\n",
       "      <td>Three</td>\n",
       "      <td>Yes</td>\n",
       "      <td>...</td>\n",
       "      <td>71</td>\n",
       "      <td>93</td>\n",
       "      <td>79</td>\n",
       "      <td>181</td>\n",
       "      <td>180</td>\n",
       "      <td>91</td>\n",
       "      <td>5</td>\n",
       "      <td>4</td>\n",
       "      <td>2</td>\n",
       "      <td>2</td>\n",
       "    </tr>\n",
       "    <tr>\n",
       "      <th>1</th>\n",
       "      <td>SB11201210000137</td>\n",
       "      <td>F</td>\n",
       "      <td>Complete Secundary</td>\n",
       "      <td>Complete professional education</td>\n",
       "      <td>Entrepreneur</td>\n",
       "      <td>Independent professional</td>\n",
       "      <td>Stratum 5</td>\n",
       "      <td>It is not classified by the SISBEN</td>\n",
       "      <td>Three</td>\n",
       "      <td>Yes</td>\n",
       "      <td>...</td>\n",
       "      <td>86</td>\n",
       "      <td>98</td>\n",
       "      <td>78</td>\n",
       "      <td>201</td>\n",
       "      <td>182</td>\n",
       "      <td>92</td>\n",
       "      <td>5</td>\n",
       "      <td>4</td>\n",
       "      <td>4</td>\n",
       "      <td>4</td>\n",
       "    </tr>\n",
       "    <tr>\n",
       "      <th>2</th>\n",
       "      <td>SB11201210005154</td>\n",
       "      <td>M</td>\n",
       "      <td>Not sure</td>\n",
       "      <td>Not sure</td>\n",
       "      <td>Independent</td>\n",
       "      <td>Home</td>\n",
       "      <td>Stratum 2</td>\n",
       "      <td>Level 2</td>\n",
       "      <td>Five</td>\n",
       "      <td>No</td>\n",
       "      <td>...</td>\n",
       "      <td>18</td>\n",
       "      <td>43</td>\n",
       "      <td>22</td>\n",
       "      <td>113</td>\n",
       "      <td>113</td>\n",
       "      <td>7</td>\n",
       "      <td>1</td>\n",
       "      <td>1</td>\n",
       "      <td>1</td>\n",
       "      <td>1</td>\n",
       "    </tr>\n",
       "    <tr>\n",
       "      <th>3</th>\n",
       "      <td>SB11201210007504</td>\n",
       "      <td>F</td>\n",
       "      <td>Not sure</td>\n",
       "      <td>Not sure</td>\n",
       "      <td>Other occupation</td>\n",
       "      <td>Independent</td>\n",
       "      <td>Stratum 2</td>\n",
       "      <td>It is not classified by the SISBEN</td>\n",
       "      <td>Three</td>\n",
       "      <td>Yes</td>\n",
       "      <td>...</td>\n",
       "      <td>76</td>\n",
       "      <td>80</td>\n",
       "      <td>48</td>\n",
       "      <td>137</td>\n",
       "      <td>157</td>\n",
       "      <td>67</td>\n",
       "      <td>4</td>\n",
       "      <td>3</td>\n",
       "      <td>2</td>\n",
       "      <td>2</td>\n",
       "    </tr>\n",
       "    <tr>\n",
       "      <th>4</th>\n",
       "      <td>SB11201210007548</td>\n",
       "      <td>M</td>\n",
       "      <td>Complete professional education</td>\n",
       "      <td>Complete professional education</td>\n",
       "      <td>Executive</td>\n",
       "      <td>Home</td>\n",
       "      <td>Stratum 4</td>\n",
       "      <td>It is not classified by the SISBEN</td>\n",
       "      <td>One</td>\n",
       "      <td>Yes</td>\n",
       "      <td>...</td>\n",
       "      <td>98</td>\n",
       "      <td>100</td>\n",
       "      <td>71</td>\n",
       "      <td>189</td>\n",
       "      <td>198</td>\n",
       "      <td>98</td>\n",
       "      <td>5</td>\n",
       "      <td>4</td>\n",
       "      <td>4</td>\n",
       "      <td>2</td>\n",
       "    </tr>\n",
       "  </tbody>\n",
       "</table>\n",
       "<p>5 rows × 44 columns</p>\n",
       "</div>"
      ],
      "text/plain": [
       "            COD_S11 GENDER                         EDU_FATHER  \\\n",
       "0  SB11201210000129      F  Incomplete Professional Education   \n",
       "1  SB11201210000137      F                 Complete Secundary   \n",
       "2  SB11201210005154      M                           Not sure   \n",
       "3  SB11201210007504      F                           Not sure   \n",
       "4  SB11201210007548      M    Complete professional education   \n",
       "\n",
       "                         EDU_MOTHER                                OCC_FATHER  \\\n",
       "0  Complete technique or technology  Technical or professional level employee   \n",
       "1   Complete professional education                             Entrepreneur    \n",
       "2                          Not sure                               Independent   \n",
       "3                          Not sure                          Other occupation   \n",
       "4   Complete professional education                                 Executive   \n",
       "\n",
       "                 OCC_MOTHER    STRATUM                              SISBEN  \\\n",
       "0                      Home  Stratum 4  It is not classified by the SISBEN   \n",
       "1  Independent professional  Stratum 5  It is not classified by the SISBEN   \n",
       "2                      Home  Stratum 2                             Level 2   \n",
       "3               Independent  Stratum 2  It is not classified by the SISBEN   \n",
       "4                      Home  Stratum 4  It is not classified by the SISBEN   \n",
       "\n",
       "  PEOPLE_HOUSE INTERNET  ... CC_PRO ENG_PRO WC_PRO FEP_PRO G_SC PERCENTILE  \\\n",
       "0        Three      Yes  ...     71      93     79     181  180         91   \n",
       "1        Three      Yes  ...     86      98     78     201  182         92   \n",
       "2         Five       No  ...     18      43     22     113  113          7   \n",
       "3        Three      Yes  ...     76      80     48     137  157         67   \n",
       "4          One      Yes  ...     98     100     71     189  198         98   \n",
       "\n",
       "  2ND_DECILE QUARTILE SEL SEL_IHE  \n",
       "0          5        4   2       2  \n",
       "1          5        4   4       4  \n",
       "2          1        1   1       1  \n",
       "3          4        3   2       2  \n",
       "4          5        4   4       2  \n",
       "\n",
       "[5 rows x 44 columns]"
      ]
     },
     "execution_count": 108,
     "metadata": {},
     "output_type": "execute_result"
    }
   ],
   "source": [
    "df.head()"
   ]
  },
  {
   "cell_type": "code",
   "execution_count": 109,
   "id": "836b56ba",
   "metadata": {},
   "outputs": [
    {
     "data": {
      "image/png": "[encoded data removed]",
      "text/plain": [
       "<Figure size 1200x1200 with 20 Axes>"
      ]
     },
     "metadata": {},
     "output_type": "display_data"
    }
   ],
   "source": [
    "df.hist(figsize=(12,12))\n",
    "plt.show()"
   ]
  },
  {
   "cell_type": "code",
   "execution_count": 110,
   "id": "305c8633",
   "metadata": {},
   "outputs": [
    {
     "data": {
      "text/html": [
       "<div>\n",
       "<style scoped>\n",
       "    .dataframe tbody tr th:only-of-type {\n",
       "        vertical-align: middle;\n",
       "    }\n",
       "\n",
       "    .dataframe tbody tr th {\n",
       "        vertical-align: top;\n",
       "    }\n",
       "\n",
       "    .dataframe thead th {\n",
       "        text-align: right;\n",
       "    }\n",
       "</style>\n",
       "<table border=\"1\" class=\"dataframe\">\n",
       "  <thead>\n",
       "    <tr style=\"text-align: right;\">\n",
       "      <th></th>\n",
       "      <th>MAT_S11</th>\n",
       "      <th>CR_S11</th>\n",
       "      <th>CC_S11</th>\n",
       "      <th>BIO_S11</th>\n",
       "      <th>ENG_S11</th>\n",
       "      <th>QR_PRO</th>\n",
       "      <th>CR_PRO</th>\n",
       "      <th>CC_PRO</th>\n",
       "      <th>ENG_PRO</th>\n",
       "      <th>WC_PRO</th>\n",
       "      <th>FEP_PRO</th>\n",
       "      <th>G_SC</th>\n",
       "      <th>PERCENTILE</th>\n",
       "      <th>2ND_DECILE</th>\n",
       "    </tr>\n",
       "  </thead>\n",
       "  <tbody>\n",
       "    <tr>\n",
       "      <th>0</th>\n",
       "      <td>71</td>\n",
       "      <td>81</td>\n",
       "      <td>61</td>\n",
       "      <td>86</td>\n",
       "      <td>82</td>\n",
       "      <td>71</td>\n",
       "      <td>93</td>\n",
       "      <td>71</td>\n",
       "      <td>93</td>\n",
       "      <td>79</td>\n",
       "      <td>181</td>\n",
       "      <td>180</td>\n",
       "      <td>91</td>\n",
       "      <td>5</td>\n",
       "    </tr>\n",
       "    <tr>\n",
       "      <th>1</th>\n",
       "      <td>83</td>\n",
       "      <td>75</td>\n",
       "      <td>66</td>\n",
       "      <td>100</td>\n",
       "      <td>88</td>\n",
       "      <td>97</td>\n",
       "      <td>38</td>\n",
       "      <td>86</td>\n",
       "      <td>98</td>\n",
       "      <td>78</td>\n",
       "      <td>201</td>\n",
       "      <td>182</td>\n",
       "      <td>92</td>\n",
       "      <td>5</td>\n",
       "    </tr>\n",
       "    <tr>\n",
       "      <th>2</th>\n",
       "      <td>52</td>\n",
       "      <td>49</td>\n",
       "      <td>38</td>\n",
       "      <td>46</td>\n",
       "      <td>42</td>\n",
       "      <td>17</td>\n",
       "      <td>1</td>\n",
       "      <td>18</td>\n",
       "      <td>43</td>\n",
       "      <td>22</td>\n",
       "      <td>113</td>\n",
       "      <td>113</td>\n",
       "      <td>7</td>\n",
       "      <td>1</td>\n",
       "    </tr>\n",
       "    <tr>\n",
       "      <th>3</th>\n",
       "      <td>56</td>\n",
       "      <td>55</td>\n",
       "      <td>51</td>\n",
       "      <td>64</td>\n",
       "      <td>73</td>\n",
       "      <td>65</td>\n",
       "      <td>35</td>\n",
       "      <td>76</td>\n",
       "      <td>80</td>\n",
       "      <td>48</td>\n",
       "      <td>137</td>\n",
       "      <td>157</td>\n",
       "      <td>67</td>\n",
       "      <td>4</td>\n",
       "    </tr>\n",
       "    <tr>\n",
       "      <th>4</th>\n",
       "      <td>80</td>\n",
       "      <td>65</td>\n",
       "      <td>76</td>\n",
       "      <td>85</td>\n",
       "      <td>92</td>\n",
       "      <td>94</td>\n",
       "      <td>94</td>\n",
       "      <td>98</td>\n",
       "      <td>100</td>\n",
       "      <td>71</td>\n",
       "      <td>189</td>\n",
       "      <td>198</td>\n",
       "      <td>98</td>\n",
       "      <td>5</td>\n",
       "    </tr>\n",
       "  </tbody>\n",
       "</table>\n",
       "</div>"
      ],
      "text/plain": [
       "   MAT_S11  CR_S11  CC_S11  BIO_S11  ENG_S11  QR_PRO  CR_PRO  CC_PRO  ENG_PRO  \\\n",
       "0       71      81      61       86       82      71      93      71       93   \n",
       "1       83      75      66      100       88      97      38      86       98   \n",
       "2       52      49      38       46       42      17       1      18       43   \n",
       "3       56      55      51       64       73      65      35      76       80   \n",
       "4       80      65      76       85       92      94      94      98      100   \n",
       "\n",
       "   WC_PRO  FEP_PRO  G_SC  PERCENTILE  2ND_DECILE  \n",
       "0      79      181   180          91           5  \n",
       "1      78      201   182          92           5  \n",
       "2      22      113   113           7           1  \n",
       "3      48      137   157          67           4  \n",
       "4      71      189   198          98           5  "
      ]
     },
     "execution_count": 110,
     "metadata": {},
     "output_type": "execute_result"
    }
   ],
   "source": [
    "X = df.iloc[:,[24,25,26,27,28,32,33,34,35,36,37,38,39,40]]\n",
    "X.head(5)"
   ]
  },
  {
   "cell_type": "code",
   "execution_count": 111,
   "id": "c6ba1de1",
   "metadata": {},
   "outputs": [],
   "source": [
    "from sklearn.preprocessing import MinMaxScaler"
   ]
  },
  {
   "cell_type": "code",
   "execution_count": 112,
   "id": "13223b41",
   "metadata": {},
   "outputs": [
    {
     "data": {
      "text/html": [
       "<style>#sk-container-id-1 {color: black;}#sk-container-id-1 pre{padding: 0;}#sk-container-id-1 div.sk-toggleable {background-color: white;}#sk-container-id-1 label.sk-toggleable__label {cursor: pointer;display: block;width: 100%;margin-bottom: 0;padding: 0.3em;box-sizing: border-box;text-align: center;}#sk-container-id-1 label.sk-toggleable__label-arrow:before {content: \"▸\";float: left;margin-right: 0.25em;color: #696969;}#sk-container-id-1 label.sk-toggleable__label-arrow:hover:before {color: black;}#sk-container-id-1 div.sk-estimator:hover label.sk-toggleable__label-arrow:before {color: black;}#sk-container-id-1 div.sk-toggleable__content {max-height: 0;max-width: 0;overflow: hidden;text-align: left;background-color: #f0f8ff;}#sk-container-id-1 div.sk-toggleable__content pre {margin: 0.2em;color: black;border-radius: 0.25em;background-color: #f0f8ff;}#sk-container-id-1 input.sk-toggleable__control:checked~div.sk-toggleable__content {max-height: 200px;max-width: 100%;overflow: auto;}#sk-container-id-1 input.sk-toggleable__control:checked~label.sk-toggleable__label-arrow:before {content: \"▾\";}#sk-container-id-1 div.sk-estimator input.sk-toggleable__control:checked~label.sk-toggleable__label {background-color: #d4ebff;}#sk-container-id-1 div.sk-label input.sk-toggleable__control:checked~label.sk-toggleable__label {background-color: #d4ebff;}#sk-container-id-1 input.sk-hidden--visually {border: 0;clip: rect(1px 1px 1px 1px);clip: rect(1px, 1px, 1px, 1px);height: 1px;margin: -1px;overflow: hidden;padding: 0;position: absolute;width: 1px;}#sk-container-id-1 div.sk-estimator {font-family: monospace;background-color: #f0f8ff;border: 1px dotted black;border-radius: 0.25em;box-sizing: border-box;margin-bottom: 0.5em;}#sk-container-id-1 div.sk-estimator:hover {background-color: #d4ebff;}#sk-container-id-1 div.sk-parallel-item::after {content: \"\";width: 100%;border-bottom: 1px solid gray;flex-grow: 1;}#sk-container-id-1 div.sk-label:hover label.sk-toggleable__label {background-color: #d4ebff;}#sk-container-id-1 div.sk-serial::before {content: \"\";position: absolute;border-left: 1px solid gray;box-sizing: border-box;top: 0;bottom: 0;left: 50%;z-index: 0;}#sk-container-id-1 div.sk-serial {display: flex;flex-direction: column;align-items: center;background-color: white;padding-right: 0.2em;padding-left: 0.2em;position: relative;}#sk-container-id-1 div.sk-item {position: relative;z-index: 1;}#sk-container-id-1 div.sk-parallel {display: flex;align-items: stretch;justify-content: center;background-color: white;position: relative;}#sk-container-id-1 div.sk-item::before, #sk-container-id-1 div.sk-parallel-item::before {content: \"\";position: absolute;border-left: 1px solid gray;box-sizing: border-box;top: 0;bottom: 0;left: 50%;z-index: -1;}#sk-container-id-1 div.sk-parallel-item {display: flex;flex-direction: column;z-index: 1;position: relative;background-color: white;}#sk-container-id-1 div.sk-parallel-item:first-child::after {align-self: flex-end;width: 50%;}#sk-container-id-1 div.sk-parallel-item:last-child::after {align-self: flex-start;width: 50%;}#sk-container-id-1 div.sk-parallel-item:only-child::after {width: 0;}#sk-container-id-1 div.sk-dashed-wrapped {border: 1px dashed gray;margin: 0 0.4em 0.5em 0.4em;box-sizing: border-box;padding-bottom: 0.4em;background-color: white;}#sk-container-id-1 div.sk-label label {font-family: monospace;font-weight: bold;display: inline-block;line-height: 1.2em;}#sk-container-id-1 div.sk-label-container {text-align: center;}#sk-container-id-1 div.sk-container {/* jupyter's `normalize.less` sets `[hidden] { display: none; }` but bootstrap.min.css set `[hidden] { display: none !important; }` so we also need the `!important` here to be able to override the default hidden behavior on the sphinx rendered scikit-learn.org. See: https://github.com/scikit-learn/scikit-learn/issues/21755 */display: inline-block !important;position: relative;}#sk-container-id-1 div.sk-text-repr-fallback {display: none;}</style><div id=\"sk-container-id-1\" class=\"sk-top-container\"><div class=\"sk-text-repr-fallback\"><pre>MinMaxScaler()</pre><b>In a Jupyter environment, please rerun this cell to show the HTML representation or trust the notebook. <br />On GitHub, the HTML representation is unable to render, please try loading this page with nbviewer.org.</b></div><div class=\"sk-container\" hidden><div class=\"sk-item\"><div class=\"sk-estimator sk-toggleable\"><input class=\"sk-toggleable__control sk-hidden--visually\" id=\"sk-estimator-id-1\" type=\"checkbox\" checked><label for=\"sk-estimator-id-1\" class=\"sk-toggleable__label sk-toggleable__label-arrow\">MinMaxScaler</label><div class=\"sk-toggleable__content\"><pre>MinMaxScaler()</pre></div></div></div></div></div>"
      ],
      "text/plain": [
       "MinMaxScaler()"
      ]
     },
     "execution_count": 112,
     "metadata": {},
     "output_type": "execute_result"
    }
   ],
   "source": [
    "scaler=MinMaxScaler(feature_range=(0, 1))\n",
    "scaler.fit(X)"
   ]
  },
  {
   "cell_type": "code",
   "execution_count": 113,
   "id": "80b619e4",
   "metadata": {},
   "outputs": [],
   "source": [
    "scaled_data=scaler.transform(X)"
   ]
  },
  {
   "cell_type": "code",
   "execution_count": 114,
   "id": "27e0ab35",
   "metadata": {},
   "outputs": [
    {
     "data": {
      "text/plain": [
       "array([[0.60810811, 0.75      , 0.61      , ..., 0.68095238, 0.90909091,\n",
       "        1.        ],\n",
       "       [0.77027027, 0.67105263, 0.66      , ..., 0.69047619, 0.91919192,\n",
       "        1.        ],\n",
       "       [0.35135135, 0.32894737, 0.38      , ..., 0.36190476, 0.06060606,\n",
       "        0.        ],\n",
       "       ...,\n",
       "       [0.54054054, 0.59210526, 0.75      , ..., 0.71904762, 0.94949495,\n",
       "        1.        ],\n",
       "       [0.36486486, 0.59210526, 0.64      , ..., 0.51904762, 0.49494949,\n",
       "        0.5       ],\n",
       "       [0.71621622, 0.53947368, 0.62      , ..., 0.67142857, 0.88888889,\n",
       "        1.        ]])"
      ]
     },
     "execution_count": 114,
     "metadata": {},
     "output_type": "execute_result"
    }
   ],
   "source": [
    "scaled_data"
   ]
  },
  {
   "cell_type": "code",
   "execution_count": null,
   "id": "7620260c",
   "metadata": {},
   "outputs": [],
   "source": []
  }
 ],
 "metadata": {
  "kernelspec": {
   "display_name": "Python 3 (ipykernel)",
   "language": "python",
   "name": "python3"
  },
  "language_info": {
   "codemirror_mode": {
    "name": "ipython",
    "version": 3
   },
   "file_extension": ".py",
   "mimetype": "text/x-python",
   "name": "python",
   "nbconvert_exporter": "python",
   "pygments_lexer": "ipython3",
   "version": "3.11.5"
  }
 },
 "nbformat": 4,
 "nbformat_minor": 5
}
